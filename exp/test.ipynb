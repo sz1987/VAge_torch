{
 "cells": [
  {
   "cell_type": "code",
   "execution_count": 1,
   "metadata": {
    "ExecuteTime": {
     "end_time": "2024-09-10T05:41:41.251831Z",
     "start_time": "2024-09-10T05:41:40.595472Z"
    }
   },
   "outputs": [],
   "source": [
    "import os,sys\n",
    "import yaml\n",
    "os.path.sep\n",
    "sys.path.append('../voxel_age')\n",
    "import utils\n",
    "import imp\n",
    "import main"
   ]
  },
  {
   "cell_type": "code",
   "execution_count": 2,
   "metadata": {
    "ExecuteTime": {
     "end_time": "2024-09-10T05:41:42.043578Z",
     "start_time": "2024-09-10T05:41:42.017460Z"
    }
   },
   "outputs": [],
   "source": [
    "imp.reload(utils)\n",
    "yml_path = './config/config_01.yml'\n",
    "config = utils.read_yaml(yml_path)\n",
    "config = utils.config_parse(yml_path)"
   ]
  },
  {
   "cell_type": "code",
   "execution_count": 3,
   "metadata": {
    "ExecuteTime": {
     "end_time": "2024-09-10T05:41:43.657820Z",
     "start_time": "2024-09-10T05:41:43.649707Z"
    }
   },
   "outputs": [
    {
     "data": {
      "text/plain": [
       "{'data': {'data_list': [['3101V1', 'Yuchuan_demo'],\n",
       "   ['3101V2', 'Yuchuan_demo']],\n",
       "  'data_dict_list': [{'mask': 'cat_base',\n",
       "    'feat_type': 'volume',\n",
       "    'feat_type_detail': 'Modulated_gray_matter_density',\n",
       "    'process_tool': 'CAT12',\n",
       "    'tool_version': 'default',\n",
       "    'roi_list': None},\n",
       "   {'mask': 'cat_base',\n",
       "    'feat_type': 'volume',\n",
       "    'feat_type_detail': 'Modulated_white_matter_density',\n",
       "    'process_tool': 'CAT12',\n",
       "    'tool_version': 'default',\n",
       "    'roi_list': None}],\n",
       "  'sys_config': {'mask_path_dict': {'cat_base': {'path': '/Users/sunzhuo/Downloads/Voxel_Aging/mask/volume/cat_base/cat.nii'},\n",
       "    'neuromorphic': {'path': '/Users/sunzhuo/Downloads/Voxel_Aging/mask/volume/neuromorphometrics/neuromorphometrics.nii'}},\n",
       "   'preprocess_data_root': '/Users/sunzhuo/Downloads/Voxel_Aging/PPMI',\n",
       "   'roi_feat_root': '/Users/sunzhuo/Downloads/Voxel_Aging/test/feat_roi_dataset',\n",
       "   'clinial_data_csv': None,\n",
       "   'cpu_num': 4},\n",
       "  'out_root': '/Users/sunzhuo/Downloads/Voxel_Aging/test/extract_feat'}}"
      ]
     },
     "execution_count": 3,
     "metadata": {},
     "output_type": "execute_result"
    }
   ],
   "source": [
    "config "
   ]
  },
  {
   "cell_type": "code",
   "execution_count": 4,
   "metadata": {
    "ExecuteTime": {
     "end_time": "2024-09-10T05:41:46.719098Z",
     "start_time": "2024-09-10T05:41:45.917531Z"
    }
   },
   "outputs": [
    {
     "name": "stdout",
     "output_type": "stream",
     "text": [
      " ===>>> finish step 1, get the information from config\n",
      " ===>>> finish step_2, check the input\n",
      "======data_dict_list[0], Tue Sep 10 13:41:45 2024=======\n",
      "{'mask': 'cat_base', 'feat_type': 'volume', 'feat_type_detail': 'Modulated_gray_matter_density', 'process_tool': 'CAT12', 'tool_version': 'default', 'roi_list': None}\n",
      "====>>>>>> already has all the roi_wise feat extracted in the disk\n",
      " === collecting the roi-wise feat_vec into the feat_mat, for 23 ROIs, Tue Sep 10 13:41:45 2024\n",
      " === Finish collecting the roi-wise feat_vec into the feat_mat, Tue Sep 10 13:41:46 2024\n",
      "======data_dict_list[1], Tue Sep 10 13:41:46 2024=======\n",
      "{'mask': 'cat_base', 'feat_type': 'volume', 'feat_type_detail': 'Modulated_white_matter_density', 'process_tool': 'CAT12', 'tool_version': 'default', 'roi_list': None}\n",
      " ===>>> There are 2 images need to be recompute to extract roi-wise features, Tue Sep 10 13:41:46 2024\n",
      " ===>>> feat_im_path_dict\n",
      "{'3101V1': ['/Users/sunzhuo/Downloads/Voxel_Aging/PPMI/3101V1/T1w/3101V1/mri/mri/mwp2nu.nii', 'Yuchuan_demo'], '3101V2': ['/Users/sunzhuo/Downloads/Voxel_Aging/PPMI/3101V2/T1w/3101V2/mri/mri/mwp2nu.nii', 'Yuchuan_demo']}\n",
      " there are 2 image to compute in extract_feat_in_ROI_parallel\n",
      "using multiprocessing to extract the feature in parallel\n",
      " ===>>> Finish at Tue Sep 10 13:41:46 2024\n",
      " === collecting the roi-wise feat_vec into the feat_mat, for 23 ROIs, Tue Sep 10 13:41:46 2024\n",
      " === Finish collecting the roi-wise feat_vec into the feat_mat, Tue Sep 10 13:41:46 2024\n"
     ]
    }
   ],
   "source": [
    "main.run('take_feat', None, yml_path)"
   ]
  },
  {
   "cell_type": "code",
   "execution_count": 11,
   "metadata": {
    "ExecuteTime": {
     "end_time": "2024-09-10T04:10:48.648268Z",
     "start_time": "2024-09-10T04:10:48.633427Z"
    }
   },
   "outputs": [
    {
     "data": {
      "text/plain": [
       "'None'"
      ]
     },
     "execution_count": 11,
     "metadata": {},
     "output_type": "execute_result"
    }
   ],
   "source": [
    "config['split']['pre_define_split']"
   ]
  },
  {
   "cell_type": "code",
   "execution_count": 8,
   "metadata": {
    "ExecuteTime": {
     "end_time": "2024-09-10T05:35:57.908600Z",
     "start_time": "2024-09-10T05:35:57.900136Z"
    }
   },
   "outputs": [
    {
     "data": {
      "text/plain": [
       "False"
      ]
     },
     "execution_count": 8,
     "metadata": {},
     "output_type": "execute_result"
    }
   ],
   "source": [
    "import os \n",
    "os.path.exists('/Users/sunzhuo/Downloads/Voxel_Aging/PPMI/310V1')"
   ]
  },
  {
   "cell_type": "code",
   "execution_count": null,
   "metadata": {},
   "outputs": [],
   "source": []
  },
  {
   "cell_type": "code",
   "execution_count": 9,
   "metadata": {
    "ExecuteTime": {
     "end_time": "2024-09-10T05:36:49.246896Z",
     "start_time": "2024-09-10T05:36:49.231115Z"
    }
   },
   "outputs": [],
   "source": [
    "import pandas as pd \n",
    "out_path = './config/demo_data_list.csv'\n",
    "dict1 = {'img_name': ['3101V1', '3101V2'],   'dataset_name': ['Yuchuan_demo', 'Yuchuan_demo']}\n",
    "df1 = pd.DataFrame(dict1)\n",
    "df1.to_csv(out_path)\n",
    "\n"
   ]
  }
 ],
 "metadata": {
  "hide_input": false,
  "kernelspec": {
   "display_name": "Python 3 (ipykernel)",
   "language": "python",
   "name": "python3"
  },
  "language_info": {
   "codemirror_mode": {
    "name": "ipython",
    "version": 3
   },
   "file_extension": ".py",
   "mimetype": "text/x-python",
   "name": "python",
   "nbconvert_exporter": "python",
   "pygments_lexer": "ipython3",
   "version": "3.9.12"
  },
  "toc": {
   "base_numbering": 1,
   "nav_menu": {},
   "number_sections": true,
   "sideBar": true,
   "skip_h1_title": false,
   "title_cell": "Table of Contents",
   "title_sidebar": "Contents",
   "toc_cell": false,
   "toc_position": {},
   "toc_section_display": true,
   "toc_window_display": false
  },
  "varInspector": {
   "cols": {
    "lenName": 16,
    "lenType": 16,
    "lenVar": 40
   },
   "kernels_config": {
    "python": {
     "delete_cmd_postfix": "",
     "delete_cmd_prefix": "del ",
     "library": "var_list.py",
     "varRefreshCmd": "print(var_dic_list())"
    },
    "r": {
     "delete_cmd_postfix": ") ",
     "delete_cmd_prefix": "rm(",
     "library": "var_list.r",
     "varRefreshCmd": "cat(var_dic_list()) "
    }
   },
   "types_to_exclude": [
    "module",
    "function",
    "builtin_function_or_method",
    "instance",
    "_Feature"
   ],
   "window_display": false
  }
 },
 "nbformat": 4,
 "nbformat_minor": 2
}
