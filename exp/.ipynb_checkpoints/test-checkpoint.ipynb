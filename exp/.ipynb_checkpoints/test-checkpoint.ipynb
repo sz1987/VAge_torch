{
 "cells": [
  {
   "cell_type": "code",
   "execution_count": 1,
   "metadata": {
    "ExecuteTime": {
     "end_time": "2024-09-10T05:28:26.126296Z",
     "start_time": "2024-09-10T05:28:25.353100Z"
    }
   },
   "outputs": [],
   "source": [
    "import os,sys\n",
    "import yaml\n",
    "os.path.sep\n",
    "sys.path.append('../voxel_age')\n",
    "import utils\n",
    "import imp\n",
    "import main"
   ]
  },
  {
   "cell_type": "code",
   "execution_count": 2,
   "metadata": {
    "ExecuteTime": {
     "end_time": "2024-09-10T05:28:26.619614Z",
     "start_time": "2024-09-10T05:28:26.588715Z"
    }
   },
   "outputs": [],
   "source": [
    "imp.reload(utils)\n",
    "yml_path = './config/config_01.yml'\n",
    "config = utils.read_yaml(yml_path)\n",
    "config = utils.config_parse(yml_path)"
   ]
  },
  {
   "cell_type": "code",
   "execution_count": 3,
   "metadata": {
    "ExecuteTime": {
     "end_time": "2024-09-10T05:28:28.063442Z",
     "start_time": "2024-09-10T05:28:28.055533Z"
    }
   },
   "outputs": [
    {
     "data": {
      "text/plain": [
       "{'data': {'data_list': [['310V1', 'Yuchuan_demo'], ['310V2', 'Yuchuan_demo']],\n",
       "  'data_dict_list': [{'mask': 'cat_base',\n",
       "    'feat_type': 'volume',\n",
       "    'feat_type_detail': 'Modulated_gray_matter_density',\n",
       "    'process_tool': 'CAT12',\n",
       "    'tool_version': 'default',\n",
       "    'roi_list': None},\n",
       "   {'mask': 'cat_base',\n",
       "    'feat_type': 'volume',\n",
       "    'feat_type_detail': 'Modulated_white_matter_density',\n",
       "    'process_tool': 'CAT12',\n",
       "    'tool_version': 'default',\n",
       "    'roi_list': None}],\n",
       "  'sys_config': {'mask_path_dict': {'cat_base': {'path': '/Users/sunzhuo/Downloads/Voxel_Aging/mask/volume/cat_base/cat.nii'},\n",
       "    'neuromorphic': {'path': '/Users/sunzhuo/Downloads/Voxel_Aging/mask/volume/neuromorphometrics/neuromorphometrics.nii'}},\n",
       "   'preprocess_data_root': '/Users/sunzhuo/Downloads/Voxel_Aging/PPMI',\n",
       "   'roi_feat_root': '/Users/sunzhuo/Downloads/Voxel_Aging/test/feat_roi_dataset',\n",
       "   'clinial_data_csv': None},\n",
       "  'out_root': '/Users/sunzhuo/Downloads/Voxel_Aging/test/extract_feat'}}"
      ]
     },
     "execution_count": 3,
     "metadata": {},
     "output_type": "execute_result"
    }
   ],
   "source": [
    "config "
   ]
  },
  {
   "cell_type": "code",
   "execution_count": 4,
   "metadata": {
    "ExecuteTime": {
     "end_time": "2024-09-10T05:28:31.188731Z",
     "start_time": "2024-09-10T05:28:30.485313Z"
    }
   },
   "outputs": [
    {
     "name": "stdout",
     "output_type": "stream",
     "text": [
      " ===>>> finish step 1, get the information from config\n",
      " ===>>> finish step_2, check the input\n",
      "======data_dict_list[0], Tue Sep 10 13:28:30 2024=======\n",
      "{'mask': 'cat_base', 'feat_type': 'volume', 'feat_type_detail': 'Modulated_gray_matter_density', 'process_tool': 'CAT12', 'tool_version': 'default', 'roi_list': None}\n",
      " ===>>> There are 2 images need to be recompute to extract roi-wise features, Tue Sep 10 13:28:30 2024\n",
      " ===>>> feat_im_path_dict\n",
      "{'310V1': ['/Users/sunzhuo/Downloads/Voxel_Aging/PPMI/310V1/T1w/310V1/mri/mri/mwp1nu.nii', 'Yuchuan_demo'], '310V2': ['/Users/sunzhuo/Downloads/Voxel_Aging/PPMI/310V2/T1w/310V2/mri/mri/mwp1nu.nii', 'Yuchuan_demo']}\n",
      " ===>>> Finish at Tue Sep 10 13:28:31 2024\n",
      " === collecting the roi-wise feat_vec into the feat_mat, for 23 ROIs, Tue Sep 10 13:28:31 2024\n"
     ]
    },
    {
     "ename": "TypeError",
     "evalue": "load_pickle() missing 1 required positional argument: 'file_path'",
     "output_type": "error",
     "traceback": [
      "\u001b[0;31m---------------------------------------------------------------------------\u001b[0m",
      "\u001b[0;31mTypeError\u001b[0m                                 Traceback (most recent call last)",
      "Input \u001b[0;32mIn [4]\u001b[0m, in \u001b[0;36m<cell line: 1>\u001b[0;34m()\u001b[0m\n\u001b[0;32m----> 1\u001b[0m \u001b[43mmain\u001b[49m\u001b[38;5;241;43m.\u001b[39;49m\u001b[43mrun\u001b[49m\u001b[43m(\u001b[49m\u001b[38;5;124;43m'\u001b[39;49m\u001b[38;5;124;43mtake_feat\u001b[39;49m\u001b[38;5;124;43m'\u001b[39;49m\u001b[43m,\u001b[49m\u001b[43m \u001b[49m\u001b[38;5;28;43;01mNone\u001b[39;49;00m\u001b[43m,\u001b[49m\u001b[43m \u001b[49m\u001b[43myml_path\u001b[49m\u001b[43m)\u001b[49m\n",
      "File \u001b[0;32m~/Documents/GitHub/VAge_torch/exp/../voxel_age/main.py:28\u001b[0m, in \u001b[0;36mrun\u001b[0;34m(op, config1, config_path)\u001b[0m\n\u001b[1;32m     25\u001b[0m     os\u001b[38;5;241m.\u001b[39mmakedirs(data_root, exist_ok\u001b[38;5;241m=\u001b[39m\u001b[38;5;28;01mTrue\u001b[39;00m)\n\u001b[1;32m     26\u001b[0m     out_path_list \u001b[38;5;241m=\u001b[39m [os\u001b[38;5;241m.\u001b[39mpath\u001b[38;5;241m.\u001b[39mjoin(out_root, dd[\u001b[38;5;124m'\u001b[39m\u001b[38;5;124mprocess_tool\u001b[39m\u001b[38;5;124m'\u001b[39m] \u001b[38;5;241m+\u001b[39m \u001b[38;5;124m'\u001b[39m\u001b[38;5;124m_\u001b[39m\u001b[38;5;124m'\u001b[39m \u001b[38;5;241m+\u001b[39mdd[\u001b[38;5;124m'\u001b[39m\u001b[38;5;124mfeat_type_detail\u001b[39m\u001b[38;5;124m'\u001b[39m], dd[\u001b[38;5;124m'\u001b[39m\u001b[38;5;124mmask\u001b[39m\u001b[38;5;124m'\u001b[39m]) \u001b[38;5;28;01mfor\u001b[39;00m dd \u001b[38;5;129;01min\u001b[39;00m data_dict_list]\n\u001b[0;32m---> 28\u001b[0m     \u001b[43mdata_manage\u001b[49m\u001b[38;5;241;43m.\u001b[39;49m\u001b[43mload_roi_feat_to_feat_mat\u001b[49m\u001b[43m(\u001b[49m\u001b[43mdata_list\u001b[49m\u001b[43m,\u001b[49m\u001b[43m \u001b[49m\u001b[43mdata_dict_list\u001b[49m\u001b[43m,\u001b[49m\u001b[43m \u001b[49m\u001b[43mdata_root\u001b[49m\u001b[43m,\u001b[49m\u001b[43m \u001b[49m\u001b[43mroi_list_list\u001b[49m\u001b[43m,\u001b[49m\u001b[43m \u001b[49m\u001b[43mout_path_list\u001b[49m\u001b[43m,\u001b[49m\u001b[43m \u001b[49m\u001b[43mconfig\u001b[49m\u001b[38;5;241;43m=\u001b[39;49m\u001b[43msys_data_config\u001b[49m\u001b[43m)\u001b[49m\n\u001b[1;32m     29\u001b[0m \u001b[38;5;28;01melif\u001b[39;00m op \u001b[38;5;241m==\u001b[39m \u001b[38;5;124m\"\u001b[39m\u001b[38;5;124mtrain\u001b[39m\u001b[38;5;124m\"\u001b[39m:\n\u001b[1;32m     30\u001b[0m     \u001b[38;5;66;03m#TODO\u001b[39;00m\n\u001b[1;32m     31\u001b[0m     \u001b[38;5;28;01mpass\u001b[39;00m\n",
      "File \u001b[0;32m~/Documents/GitHub/VAge_torch/exp/../voxel_age/data_manage.py:88\u001b[0m, in \u001b[0;36mload_roi_feat_to_feat_mat\u001b[0;34m(data_list, data_dict_list, data_root, roi_list_list, out_path_list, config)\u001b[0m\n\u001b[1;32m     86\u001b[0m     im_folder \u001b[38;5;241m=\u001b[39m os\u001b[38;5;241m.\u001b[39mpath\u001b[38;5;241m.\u001b[39mjoin(folder1, dataset, im_id)\n\u001b[1;32m     87\u001b[0m     feat_pkl \u001b[38;5;241m=\u001b[39m os\u001b[38;5;241m.\u001b[39mpath\u001b[38;5;241m.\u001b[39mjoin(im_folder, \u001b[38;5;124m'\u001b[39m\u001b[38;5;124mroi_\u001b[39m\u001b[38;5;132;01m{}\u001b[39;00m\u001b[38;5;124m.pkl\u001b[39m\u001b[38;5;124m'\u001b[39m\u001b[38;5;241m.\u001b[39mformat(roi))\n\u001b[0;32m---> 88\u001b[0m     feat_vec \u001b[38;5;241m=\u001b[39m \u001b[43mproj_io\u001b[49m\u001b[38;5;241;43m.\u001b[39;49m\u001b[43mload_pickle\u001b[49m\u001b[43m(\u001b[49m\u001b[43mfeat_pkl\u001b[49m\u001b[43m)\u001b[49m\u001b[38;5;241m.\u001b[39mreshape((\u001b[38;5;241m1\u001b[39m, \u001b[38;5;241m-\u001b[39m\u001b[38;5;241m1\u001b[39m))\n\u001b[1;32m     89\u001b[0m     feat_vec_list\u001b[38;5;241m.\u001b[39mappend(feat_vec)\n\u001b[1;32m     90\u001b[0m feat_mat \u001b[38;5;241m=\u001b[39m np\u001b[38;5;241m.\u001b[39mconcatenate(feat_vec_list, axis\u001b[38;5;241m=\u001b[39m\u001b[38;5;241m0\u001b[39m)\n",
      "\u001b[0;31mTypeError\u001b[0m: load_pickle() missing 1 required positional argument: 'file_path'"
     ]
    }
   ],
   "source": [
    "main.run('take_feat', None, yml_path)"
   ]
  },
  {
   "cell_type": "code",
   "execution_count": 11,
   "metadata": {
    "ExecuteTime": {
     "end_time": "2024-09-10T04:10:48.648268Z",
     "start_time": "2024-09-10T04:10:48.633427Z"
    }
   },
   "outputs": [
    {
     "data": {
      "text/plain": [
       "'None'"
      ]
     },
     "execution_count": 11,
     "metadata": {},
     "output_type": "execute_result"
    }
   ],
   "source": [
    "config['split']['pre_define_split']"
   ]
  },
  {
   "cell_type": "code",
   "execution_count": null,
   "metadata": {},
   "outputs": [],
   "source": []
  },
  {
   "cell_type": "code",
   "execution_count": null,
   "metadata": {},
   "outputs": [],
   "source": []
  },
  {
   "cell_type": "code",
   "execution_count": 7,
   "metadata": {
    "ExecuteTime": {
     "end_time": "2024-09-10T02:49:47.071002Z",
     "start_time": "2024-09-10T02:49:47.062000Z"
    }
   },
   "outputs": [],
   "source": [
    "import pandas as pd \n",
    "out_path = './config/demo_data_list.csv'\n",
    "dict1 = {'img_name': ['310V1', '310V2'],   'dataset_name': ['Yuchuan_demo', 'Yuchuan_demo']}\n",
    "df1 = pd.DataFrame(dict1)\n",
    "df1.to_csv(out_path)\n",
    "\n"
   ]
  }
 ],
 "metadata": {
  "hide_input": false,
  "kernelspec": {
   "display_name": "Python 3 (ipykernel)",
   "language": "python",
   "name": "python3"
  },
  "language_info": {
   "codemirror_mode": {
    "name": "ipython",
    "version": 3
   },
   "file_extension": ".py",
   "mimetype": "text/x-python",
   "name": "python",
   "nbconvert_exporter": "python",
   "pygments_lexer": "ipython3",
   "version": "3.9.12"
  },
  "toc": {
   "base_numbering": 1,
   "nav_menu": {},
   "number_sections": true,
   "sideBar": true,
   "skip_h1_title": false,
   "title_cell": "Table of Contents",
   "title_sidebar": "Contents",
   "toc_cell": false,
   "toc_position": {},
   "toc_section_display": true,
   "toc_window_display": false
  },
  "varInspector": {
   "cols": {
    "lenName": 16,
    "lenType": 16,
    "lenVar": 40
   },
   "kernels_config": {
    "python": {
     "delete_cmd_postfix": "",
     "delete_cmd_prefix": "del ",
     "library": "var_list.py",
     "varRefreshCmd": "print(var_dic_list())"
    },
    "r": {
     "delete_cmd_postfix": ") ",
     "delete_cmd_prefix": "rm(",
     "library": "var_list.r",
     "varRefreshCmd": "cat(var_dic_list()) "
    }
   },
   "types_to_exclude": [
    "module",
    "function",
    "builtin_function_or_method",
    "instance",
    "_Feature"
   ],
   "window_display": false
  }
 },
 "nbformat": 4,
 "nbformat_minor": 2
}
