{
 "cells": [
  {
   "cell_type": "code",
   "execution_count": 6,
   "metadata": {},
   "outputs": [],
   "source": [
    "import data_manage \n",
    "import proj_io\n",
    "import glob, os, sys\n",
    "import imp  \n",
    "import matplotlib.pyplot as plt\n",
    "import numpy as np"
   ]
  },
  {
   "cell_type": "markdown",
   "metadata": {},
   "source": [
    "# test extract the nii and thickness file"
   ]
  },
  {
   "cell_type": "code",
   "execution_count": 2,
   "metadata": {},
   "outputs": [
    {
     "name": "stdout",
     "output_type": "stream",
     "text": [
      "vol_data.shape => (113, 137, 113)\n",
      "thick_data.shape => (150961,)\n"
     ]
    }
   ],
   "source": [
    "nii_path = '/Users/sunzhuo/Downloads/Voxel_Aging/PPMI/3101V1/T1w/3101V1/mri/mri/mwp1nu.nii'\n",
    "thick_path = '/Users/sunzhuo/Downloads/Voxel_Aging/PPMI/3101V1/T1w/3101V1/surf/lh.thickness'\n",
    "\n",
    "vol_data = proj_io.load_nifti_im_array(nii_path)\n",
    "print(f'vol_data.shape => {vol_data.shape}')\n",
    "\n",
    "thick_data = proj_io.load_thickness(thick_path)\n",
    "print(f'thick_data.shape => {thick_data.shape}')\n",
    "\n"
   ]
  },
  {
   "cell_type": "markdown",
   "metadata": {},
   "source": [
    "# test extract roi feat for a single subject under segmentation for Vol and Surf data"
   ]
  },
  {
   "cell_type": "markdown",
   "metadata": {},
   "source": [
    "## for volumn data "
   ]
  },
  {
   "cell_type": "code",
   "execution_count": 11,
   "metadata": {},
   "outputs": [
    {
     "name": "stdout",
     "output_type": "stream",
     "text": [
      "mask.shape => (113, 137, 113)\n",
      "[[0.0, 1110253], [1.0, 240641], [2.0, 236838], [3.0, 29547], [4.0, 28634], [5.0, 3644], [6.0, 3609], [7.0, 28079], [8.0, 27214], [9.0, 2651], [10.0, 2524], [11.0, 1276], [12.0, 1186], [13.0, 6930], [14.0, 5477], [15.0, 5174], [16.0, 4836], [17.0, 1842], [18.0, 1711], [19.0, 1667], [20.0, 1660], [23.0, 6], [25.0, 1998], [26.0, 1956]]\n"
     ]
    },
    {
     "data": {
      "image/png": "[encoded data removed]",
      "text/plain": [
       "<Figure size 720x720 with 1 Axes>"
      ]
     },
     "metadata": {
      "needs_background": "light"
     },
     "output_type": "display_data"
    },
    {
     "name": "stdout",
     "output_type": "stream",
     "text": [
      "1 => (240641,)\n",
      "3 => (29547,)\n",
      "10 => (2524,)\n"
     ]
    }
   ],
   "source": [
    "mask_path = '/Users/sunzhuo/Downloads/Voxel_Aging/mask/volume/cat_base/cat.nii'\n",
    "mask = proj_io.load_nifti_im_array(mask_path)\n",
    "print(f'mask.shape => {mask.shape}')\n",
    "\n",
    "label, counts = np.unique(mask, return_counts=True)\n",
    "n1 = len(label)\n",
    "pair = [[label[ind], counts[ind]] for ind in range(n1)]\n",
    "print(pair)\n",
    "plt.figure(figsize=(10,10))\n",
    "plt.hist(mask.flatten())\n",
    "plt.show()\n",
    "\n",
    "roi_list = [1,3,10]\n",
    "\n",
    "feat_dict = proj_io.extract_feat_in_ROI(vol_data, mask, roi_list=roi_list, out_folder=None)\n",
    "for key in feat_dict:\n",
    "    print(f'{key} => {feat_dict[key].shape}')"
   ]
  },
  {
   "cell_type": "markdown",
   "metadata": {},
   "source": [
    "## for surface data  (TODO)"
   ]
  },
  {
   "cell_type": "code",
   "execution_count": null,
   "metadata": {},
   "outputs": [],
   "source": []
  },
  {
   "cell_type": "markdown",
   "metadata": {},
   "source": [
    "# test the batch/parallel extract on roi feature"
   ]
  },
  {
   "cell_type": "code",
   "execution_count": 13,
   "metadata": {},
   "outputs": [],
   "source": [
    "data_dict = {}\n",
    "data_dict['dataset'] = 'cat_base'"
   ]
  },
  {
   "cell_type": "markdown",
   "metadata": {},
   "source": [
    "# test the function in data_manage.py"
   ]
  },
  {
   "cell_type": "code",
   "execution_count": null,
   "metadata": {},
   "outputs": [],
   "source": []
  },
  {
   "cell_type": "code",
   "execution_count": null,
   "metadata": {},
   "outputs": [],
   "source": []
  },
  {
   "cell_type": "code",
   "execution_count": null,
   "metadata": {},
   "outputs": [],
   "source": []
  }
 ],
 "metadata": {
  "kernelspec": {
   "display_name": "base",
   "language": "python",
   "name": "python3"
  },
  "language_info": {
   "codemirror_mode": {
    "name": "ipython",
    "version": 3
   },
   "file_extension": ".py",
   "mimetype": "text/x-python",
   "name": "python",
   "nbconvert_exporter": "python",
   "pygments_lexer": "ipython3",
   "version": "3.9.12"
  }
 },
 "nbformat": 4,
 "nbformat_minor": 2
}
